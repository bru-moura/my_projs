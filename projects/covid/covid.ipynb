{
 "cells": [
  {
   "cell_type": "code",
   "execution_count": null,
   "metadata": {},
   "outputs": [],
   "source": [
    "#Import packages\n",
    "import pandas as pd\n",
    "import plotly.express as px\n",
    "import plotly.offline as pyo\n",
    "import plotly.io as pio\n",
    "import matplotlib.pyplot as plt\n",
    "import seaborn as sns\n",
    "\n",
    "# Set notebook to show plots\n",
    "pyo.init_notebook_mode()\n",
    "%matplotlib inline\n",
    "\n",
    "\n",
    "# Set plots style\n",
    "pio.templates.default = 'ggplot2'\n",
    "sns.set_style(\"darkgrid\")"
   ]
  },
  {
   "cell_type": "code",
   "execution_count": null,
   "metadata": {},
   "outputs": [],
   "source": [
    "#Define URL for csv files on COVID-19 volumes from Johns Hopkins University\n",
    "iso_url = 'https://raw.githubusercontent.com/CSSEGISandData/COVID-19/master/csse_covid_19_data/UID_ISO_FIPS_LookUp_Table.csv'\n",
    "\n",
    "urls = dict(cases = 'https://raw.githubusercontent.com/CSSEGISandData/COVID-19/master/csse_covid_19_data/csse_covid_19_time_series/time_series_covid19_confirmed_global.csv',\n",
    "            deaths = 'https://raw.githubusercontent.com/CSSEGISandData/COVID-19/master/csse_covid_19_data/csse_covid_19_time_series/time_series_covid19_deaths_global.csv',\n",
    "            recovers = 'https://raw.githubusercontent.com/CSSEGISandData/COVID-19/master/csse_covid_19_data/csse_covid_19_time_series/time_series_covid19_recovered_global.csv')\n",
    "\n",
    "#Define dict to renaming columns (/ is too problematic)\n",
    "columns_renaming = {'Province/State':'Province_State', 'Country/Region':'Country_Region'}"
   ]
  },
  {
   "cell_type": "code",
   "execution_count": null,
   "metadata": {},
   "outputs": [],
   "source": [
    "#Get Countries ISO dataframe\n",
    "df_iso = pd.read_csv(iso_url,index_col=0,parse_dates=[0])\n",
    "\n",
    "#Get only country level info (They don't have Brazil's states)\n",
    "df_iso = df_iso[df_iso.Province_State.isnull()].drop(columns = 'Province_State')"
   ]
  },
  {
   "cell_type": "code",
   "execution_count": null,
   "metadata": {},
   "outputs": [],
   "source": [
    "#Get DataFrames for Registered Cases, Deaths and Recovers\n",
    "\n",
    "for key, url in urls.items():\n",
    "    \n",
    "    df = (\n",
    "        pd.read_csv(url,index_col=0,parse_dates=[0])\n",
    "        .reset_index()\n",
    "        .rename(columns = columns_renaming)\n",
    "    )\n",
    "    \n",
    "    #Put DataFrames in tidy format (Original file have one column per day)\n",
    "    df = (\n",
    "        df\n",
    "        .melt(\n",
    "            id_vars = ['Province_State', 'Country_Region', 'Lat', 'Long'],\n",
    "            value_vars = (\n",
    "                df\n",
    "                .drop(columns = ['Province_State', 'Country_Region', 'Lat', 'Long'])\n",
    "                .columns\n",
    "            ),\n",
    "            var_name = 'date',\n",
    "            value_name = key\n",
    "        )\n",
    "    )\n",
    "    \n",
    "    #Define data types correctly\n",
    "    df['date'] = pd.to_datetime(df['date'])\n",
    "    df[key] = df[key].astype('Int64')\n",
    "    \n",
    "    #Agregate data from state and provinces\n",
    "    df = (\n",
    "        df\n",
    "        .drop(columns = ['Province_State',\n",
    "                         'Lat',\n",
    "                         'Long'])\n",
    "        .groupby(['Country_Region',\n",
    "                  'date'], as_index = False)[key]\n",
    "        .sum()\n",
    "    )\n",
    "    \n",
    "    #Create DataFrames\n",
    "    exec('df_{} = df'.format(key))"
   ]
  },
  {
   "cell_type": "code",
   "execution_count": null,
   "metadata": {},
   "outputs": [],
   "source": [
    "#Merge all DFs\n",
    "df_covid = (\n",
    "    df_iso\n",
    "    .merge(df_cases, on = 'Country_Region')\n",
    "    .merge(df_deaths, on = ['Country_Region', 'date'], how = 'outer')\n",
    "    .merge(df_recovers, on = ['Country_Region', 'date'], how = 'outer')\n",
    ")"
   ]
  },
  {
   "cell_type": "code",
   "execution_count": null,
   "metadata": {},
   "outputs": [],
   "source": [
    "#Find out which day the country had the first cases\n",
    "day_1st_case = (\n",
    "    df_covid[df_covid.cases >= 1]\n",
    "    .sort_values('date')\n",
    "    .groupby('Country_Region', as_index = False)\n",
    "    .first()[['Country_Region', 'date']]\n",
    ")\n",
    "\n",
    "day_1st_case.columns = ['Country_Region', 'day_1st_case']\n",
    "\n",
    "#Merge df_cases to day_1_cases\n",
    "df_covid = df_covid.merge(day_1st_case, on = 'Country_Region')\n",
    "df_covid['day_1st_case'] = pd.to_datetime(df_covid['day_1st_case'])\n",
    "\n",
    "\n",
    "#Normalize days starting on 1st case's day\n",
    "df_covid['days_since_1st_case'] = (df_covid['date'] - df_covid['day_1st_case']).dt.days"
   ]
  },
  {
   "cell_type": "code",
   "execution_count": null,
   "metadata": {},
   "outputs": [],
   "source": [
    "#Find out which day the country reached 100 cases\n",
    "day_100th_case = (\n",
    "    df_covid[df_covid.cases >= 100]\n",
    "    .sort_values('date')\n",
    "    .groupby('Country_Region', as_index = False)\n",
    "    .first()[['Country_Region', 'date']]\n",
    ")\n",
    "\n",
    "day_100th_case.columns = ['Country_Region', 'day_100th_case']\n",
    "\n",
    "#Merge df_cases to day_100th_cases\n",
    "df_covid = df_covid.merge(day_100th_case, on = 'Country_Region')\n",
    "df_covid['day_100th_case'] = pd.to_datetime(df_covid['day_100th_case'])\n",
    "\n",
    "\n",
    "#Normalize days starting on 100th case's day\n",
    "df_covid['days_since_100th_case'] = (df_covid['date'] - df_covid['day_100th_case']).dt.days"
   ]
  },
  {
   "cell_type": "code",
   "execution_count": null,
   "metadata": {},
   "outputs": [],
   "source": [
    "#Select only countries with 1500 or more deaths\n",
    "most_deaths = (\n",
    "    df_covid\n",
    "    .groupby('Country_Region')\n",
    "    .filter(lambda group: group['deaths'].nlargest(1) > 1500)['Country_Region']\n",
    "    .drop_duplicates()\n",
    "    .reset_index(drop = True)\n",
    ")"
   ]
  },
  {
   "cell_type": "code",
   "execution_count": null,
   "metadata": {},
   "outputs": [],
   "source": [
    "#Add 'daily new observations' for cases, deaths and recovers\n",
    "df_covid[['new_cases', 'new_deaths', 'new_recovers']] = (\n",
    "    df_covid\n",
    "    .groupby('Country_Region')[['cases', 'deaths', 'recovers']]\n",
    "    .diff()\n",
    "    .fillna(0)\n",
    ")"
   ]
  },
  {
   "cell_type": "code",
   "execution_count": null,
   "metadata": {},
   "outputs": [],
   "source": [
    "#Add deaths by 1M people\n",
    "df_covid['deaths_by_1m'] = (\n",
    "    df_covid['deaths']\n",
    "    .divide(\n",
    "        df_covid['Population'].divide(1000000),\n",
    "        fill_value = 0)\n",
    "    .round(1)\n",
    ")"
   ]
  },
  {
   "cell_type": "code",
   "execution_count": null,
   "metadata": {},
   "outputs": [],
   "source": [
    "#Convert Datetime to str because plotly doesn't animate with date\n",
    "df_covid['date'] = df_covid['date'].astype(str)\n",
    "df_covid = df_covid.sort_values('date', ascending = True)\n",
    "\n",
    "#Plot countries cases stating on the day they had their 1st cases\n",
    "px.choropleth(df_covid[df_covid.days_since_1st_case >= 0],\n",
    "        locations = 'iso3',\n",
    "        color = 'cases',\n",
    "        animation_frame = 'date',\n",
    "        animation_group = 'Country_Region',\n",
    "        color_continuous_scale = px.colors.sequential.YlOrRd,\n",
    "        projection = 'natural earth',\n",
    "        hover_name = 'Country_Region',\n",
    "        hover_data = ['cases', 'deaths', 'recovers', 'deaths_by_1m'],\n",
    "        #range_color = [0, df_covid['cases'].max()],\n",
    "        title = 'Total COVID-19 cases',\n",
    "        labels = dict(deaths = \"Accumulated registered deaths\",\n",
    "                      date = 'Date',\n",
    "                      Country_Region = \"Country\",\n",
    "                      cases = \"Registered cases\",\n",
    "                      recovers = \"Registered recovered pacients\",\n",
    "                      deaths_by_1m = \"Deaths by 1M people\")\n",
    "       )"
   ]
  },
  {
   "cell_type": "code",
   "execution_count": null,
   "metadata": {},
   "outputs": [],
   "source": [
    "#Plot countries deaths stating on the day they reached 100 cases\n",
    "\n",
    "px.line(df_covid[(df_covid.days_since_100th_case >= 0) & (df_covid['Country_Region'].isin(most_deaths))],\n",
    "        x = 'days_since_100th_case',\n",
    "        y = 'deaths',\n",
    "        color = 'Country_Region',\n",
    "        hover_name = 'Country_Region',\n",
    "        hover_data = ['cases', 'deaths', 'recovers', 'deaths_by_1m'],\n",
    "        log_y = True,\n",
    "        title = 'Deaths since 100th case - Countries with more than 1500 deaths',\n",
    "        labels = dict(deaths = \"Accumulated registered deaths\",\n",
    "                      days_since_100th_case = \"Days since 100th case\",\n",
    "                      Country_Region = \"Country\",\n",
    "                      cases = \"Registered cases\",\n",
    "                      recovers = \"Registered recovered pacients\",\n",
    "                      deaths_by_1m = \"Deaths by 1M people\")\n",
    "       )"
   ]
  },
  {
   "cell_type": "code",
   "execution_count": null,
   "metadata": {
    "scrolled": false
   },
   "outputs": [],
   "source": [
    "g = sns.catplot(\n",
    "    data = df_covid[(df_covid.days_since_100th_case >= 0) & (df_covid['Country_Region'].isin(most_deaths))],\n",
    "    x = 'days_since_1st_case',\n",
    "    y = 'new_deaths',\n",
    "    col = 'Country_Region',\n",
    "    col_wrap = 3,\n",
    "    kind = 'bar'\n",
    ")\n",
    "\n",
    "g.set(yscale = 'log')\n",
    "g.set_xticklabels(rotation = 90)\n",
    "g.fig.suptitle(\"New deaths by day since 1st case - Countries with more than 1500 deaths\")\n",
    "plt.subplots_adjust(top = 0.95)"
   ]
  },
  {
   "cell_type": "code",
   "execution_count": null,
   "metadata": {},
   "outputs": [],
   "source": []
  }
 ],
 "metadata": {
  "kernelspec": {
   "display_name": "Python 3.7.4 64-bit ('base': conda)",
   "language": "python",
   "name": "python37464bitbaseconda26f79d6b252e4357945c59e546860786"
  },
  "language_info": {
   "codemirror_mode": {
    "name": "ipython",
    "version": 3
   },
   "file_extension": ".py",
   "mimetype": "text/x-python",
   "name": "python",
   "nbconvert_exporter": "python",
   "pygments_lexer": "ipython3",
   "version": "3.7.4"
  },
  "toc": {
   "base_numbering": 1,
   "nav_menu": {},
   "number_sections": true,
   "sideBar": true,
   "skip_h1_title": false,
   "title_cell": "Table of Contents",
   "title_sidebar": "Contents",
   "toc_cell": false,
   "toc_position": {},
   "toc_section_display": true,
   "toc_window_display": false
  }
 },
 "nbformat": 4,
 "nbformat_minor": 2
}
